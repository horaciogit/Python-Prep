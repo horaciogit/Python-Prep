{
 "cells": [
  {
   "cell_type": "markdown",
   "id": "94d39a27",
   "metadata": {},
   "source": [
    "1) Crear la clase vehículo que contenga los atributos:\n",
    "Color\n",
    "Si es moto, auto, camioneta ó camión\n",
    "Cilindrada del motor"
   ]
  },
  {
   "cell_type": "code",
   "execution_count": null,
   "id": "bc55e883",
   "metadata": {},
   "outputs": [],
   "source": [
    "class Vehiculo:\n",
    "    def __init__(self, color, tipo, cilindrada):\n",
    "        self.color = color\n",
    "        self.tipo = tipo\n",
    "        self.cilindrada = cilindrada\n",
    "    "
   ]
  },
  {
   "cell_type": "markdown",
   "id": "8b16a6a1",
   "metadata": {},
   "source": [
    "2) A la clase Vehiculo creada en el punto 1, agregar los siguientes métodos:<br>\n",
    "Acelerar<br>\n",
    "Frenar<br>\n",
    "Doblar<br>"
   ]
  },
  {
   "cell_type": "code",
   "execution_count": 1,
   "id": "f87e3708",
   "metadata": {},
   "outputs": [],
   "source": [
    "class Vehiculo:\n",
    "    def __init__(self, color, tipo, cilindrada):\n",
    "        self.color = color\n",
    "        self.tipo = tipo\n",
    "        self.cilindrada = cilindrada\n",
    "        \n",
    "    def Acelerar(self):\n",
    "        print('acelera')\n",
    "    \n",
    "    def Frenar(self):\n",
    "        print('frena')\n",
    "    \n",
    "    def doblar(self):\n",
    "        print('dobla')\n",
    "                "
   ]
  },
  {
   "cell_type": "markdown",
   "id": "d2665dd0",
   "metadata": {},
   "source": [
    "3) Instanciar 3 objetos de la clase vehículo y ejecutar sus métodos, probar luego el resultado"
   ]
  },
  {
   "cell_type": "code",
   "execution_count": 2,
   "id": "320bc19a",
   "metadata": {},
   "outputs": [],
   "source": [
    "mycar = Vehiculo('negro', 'auto', '2000')\n",
    "mytruck = Vehiculo('blanco', 'camioneta', '3000')\n",
    "mybike = Vehiculo('rojo', 'moto', '600')\n"
   ]
  },
  {
   "cell_type": "code",
   "execution_count": 5,
   "id": "62efb92b",
   "metadata": {},
   "outputs": [
    {
     "name": "stdout",
     "output_type": "stream",
     "text": [
      "auto\n",
      "3000\n",
      "frena\n"
     ]
    }
   ],
   "source": [
    "print(mycar.tipo )\n",
    "print(mytruck.cilindrada)\n",
    "mybike.Frenar()"
   ]
  },
  {
   "cell_type": "markdown",
   "id": "277e137b",
   "metadata": {},
   "source": [
    "4) Agregar a la clase Vehiculo, un método que muestre su estado, es decir, a que velocidad se encuentra y su dirección. Y otro método que muestre color, tipo y cilindrada"
   ]
  },
  {
   "cell_type": "code",
   "execution_count": 14,
   "id": "84a315fd",
   "metadata": {},
   "outputs": [],
   "source": [
    "class Vehiculo:\n",
    "    def __init__(self, color, tipo, cilindrada, velocidad, direccion):\n",
    "        self.color = color\n",
    "        self.tipo = tipo\n",
    "        self.cilindrada = cilindrada\n",
    "        self.velocidad = velocidad\n",
    "        self.direccion = direccion\n",
    "        \n",
    "    def Acelerar(self):\n",
    "        print('acelera')\n",
    "    \n",
    "    def Frenar(self):\n",
    "        print('frena')\n",
    "    \n",
    "    def doblar(self):\n",
    "        print('dobla')\n",
    "        \n",
    "    def estado(self):\n",
    "        print(f'velocidad es: {self.velocidad} km/h y direccion: {self.direccion} grados')\n",
    "        \n",
    "    def propiedades(self):\n",
    "        print(f'color: {self.color}, tipo: {self.tipo}, cilindrada: {self.cilindrada}')\n",
    "        \n",
    "        "
   ]
  },
  {
   "cell_type": "code",
   "execution_count": 15,
   "id": "799c3961",
   "metadata": {},
   "outputs": [],
   "source": [
    "mycar = Vehiculo('negro', 'auto', '2000', 110, 30)"
   ]
  },
  {
   "cell_type": "code",
   "execution_count": 16,
   "id": "c0e88ae4",
   "metadata": {},
   "outputs": [
    {
     "name": "stdout",
     "output_type": "stream",
     "text": [
      "velocidad es: 110 km/h y direccion: 30 grados\n",
      "color: negro, tipo: auto, cilindrada: 2000\n"
     ]
    }
   ],
   "source": [
    "mycar.estado()\n",
    "mycar.propiedades()"
   ]
  },
  {
   "cell_type": "code",
   "execution_count": null,
   "id": "d2bd7082",
   "metadata": {},
   "outputs": [],
   "source": []
  }
 ],
 "metadata": {
  "kernelspec": {
   "display_name": "Python 3 (ipykernel)",
   "language": "python",
   "name": "python3"
  },
  "language_info": {
   "codemirror_mode": {
    "name": "ipython",
    "version": 3
   },
   "file_extension": ".py",
   "mimetype": "text/x-python",
   "name": "python",
   "nbconvert_exporter": "python",
   "pygments_lexer": "ipython3",
   "version": "3.9.7"
  }
 },
 "nbformat": 4,
 "nbformat_minor": 5
}
