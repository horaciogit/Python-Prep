{
 "cells": [
  {
   "cell_type": "markdown",
   "id": "9c111950",
   "metadata": {},
   "source": [
    "1) Crear una lista que contenga nombres de ciudades del mundo que contenga más de 5 elementos e imprimir por pantalla"
   ]
  },
  {
   "cell_type": "code",
   "execution_count": 1,
   "id": "608ec8fe",
   "metadata": {},
   "outputs": [
    {
     "name": "stdout",
     "output_type": "stream",
     "text": [
      "['Neuquen', 'Cordoba', 'Barcelona', 'Brasilia', 'Arkansas']\n"
     ]
    }
   ],
   "source": [
    "lista_ciudades=['Neuquen', 'Cordoba', 'Barcelona', 'Brasilia', 'Arkansas']\n",
    "print(lista_ciudades)"
   ]
  },
  {
   "cell_type": "markdown",
   "id": "423c4dad",
   "metadata": {},
   "source": [
    "2) Imprimir por pantalla el segundo elemento de la lista"
   ]
  },
  {
   "cell_type": "code",
   "execution_count": 3,
   "id": "fc88f7d8",
   "metadata": {},
   "outputs": [
    {
     "name": "stdout",
     "output_type": "stream",
     "text": [
      "Cordoba\n"
     ]
    }
   ],
   "source": [
    "print(lista_ciudades[1])\n"
   ]
  },
  {
   "cell_type": "markdown",
   "id": "01a88ae4",
   "metadata": {},
   "source": [
    "4) Visualizar el tipo de dato de la lista"
   ]
  },
  {
   "cell_type": "code",
   "execution_count": 4,
   "id": "b50f2276",
   "metadata": {},
   "outputs": [
    {
     "name": "stdout",
     "output_type": "stream",
     "text": [
      "<class 'list'>\n"
     ]
    }
   ],
   "source": [
    "print(type(lista_ciudades))"
   ]
  },
  {
   "cell_type": "markdown",
   "id": "59a3de6b",
   "metadata": {},
   "source": [
    "5) Visualizar todos los elementos de la lista a partir del tercero de manera genérica, es decir, sin explicitar la posición del último elemento"
   ]
  },
  {
   "cell_type": "code",
   "execution_count": 5,
   "id": "99cfc9b3",
   "metadata": {},
   "outputs": [
    {
     "name": "stdout",
     "output_type": "stream",
     "text": [
      "['Barcelona', 'Brasilia']\n"
     ]
    }
   ],
   "source": [
    "print(lista_ciudades[2:])"
   ]
  },
  {
   "cell_type": "markdown",
   "id": "d9e811a0",
   "metadata": {},
   "source": [
    "6)Visualizar los primeros 4 elementos de la lista\n"
   ]
  },
  {
   "cell_type": "code",
   "execution_count": 8,
   "id": "1b84e959",
   "metadata": {},
   "outputs": [
    {
     "name": "stdout",
     "output_type": "stream",
     "text": [
      "['Neuquen', 'Cordoba', 'Barcelona', 'Brasilia']\n"
     ]
    }
   ],
   "source": [
    "print(lista_ciudades[:4])"
   ]
  },
  {
   "cell_type": "markdown",
   "id": "2ea85beb",
   "metadata": {},
   "source": [
    "7) Agregar una ciudad más a la lista que ya exista y otra que no ¿Arroja algún tipo de error?"
   ]
  },
  {
   "cell_type": "code",
   "execution_count": 11,
   "id": "a6f0c750",
   "metadata": {},
   "outputs": [
    {
     "name": "stdout",
     "output_type": "stream",
     "text": [
      "['Neuquen', 'Cordoba', 'Barcelona', 'Brasilia', 'Arkansas', 'Bariloche', 'Bariloche', 'Bariloche']\n"
     ]
    }
   ],
   "source": [
    "lista_ciudades.append('Bariloche')\n",
    "print(lista_ciudades)"
   ]
  },
  {
   "cell_type": "code",
   "execution_count": 12,
   "id": "0e20320b",
   "metadata": {},
   "outputs": [
    {
     "data": {
      "text/plain": [
       "'Bariloche'"
      ]
     },
     "execution_count": 12,
     "metadata": {},
     "output_type": "execute_result"
    }
   ],
   "source": [
    "lista_ciudades.pop()"
   ]
  },
  {
   "cell_type": "code",
   "execution_count": 13,
   "id": "19a1c505",
   "metadata": {},
   "outputs": [
    {
     "data": {
      "text/plain": [
       "'Bariloche'"
      ]
     },
     "execution_count": 13,
     "metadata": {},
     "output_type": "execute_result"
    }
   ],
   "source": [
    "lista_ciudades.pop()"
   ]
  },
  {
   "cell_type": "code",
   "execution_count": 14,
   "id": "976ccc87",
   "metadata": {},
   "outputs": [
    {
     "data": {
      "text/plain": [
       "['Neuquen', 'Cordoba', 'Barcelona', 'Brasilia', 'Arkansas', 'Bariloche']"
      ]
     },
     "execution_count": 14,
     "metadata": {},
     "output_type": "execute_result"
    }
   ],
   "source": [
    "lista_ciudades"
   ]
  },
  {
   "cell_type": "code",
   "execution_count": 15,
   "id": "e2952a24",
   "metadata": {},
   "outputs": [
    {
     "ename": "NameError",
     "evalue": "name 'lista_citys' is not defined",
     "output_type": "error",
     "traceback": [
      "\u001b[1;31m---------------------------------------------------------------------------\u001b[0m",
      "\u001b[1;31mNameError\u001b[0m                                 Traceback (most recent call last)",
      "\u001b[1;32m~\\AppData\\Local\\Temp/ipykernel_6536/234619159.py\u001b[0m in \u001b[0;36m<module>\u001b[1;34m\u001b[0m\n\u001b[1;32m----> 1\u001b[1;33m \u001b[0mlista_citys\u001b[0m\u001b[1;33m.\u001b[0m\u001b[0mappend\u001b[0m\u001b[1;33m(\u001b[0m\u001b[1;34m'Curazao'\u001b[0m\u001b[1;33m)\u001b[0m\u001b[1;33m\u001b[0m\u001b[1;33m\u001b[0m\u001b[0m\n\u001b[0m",
      "\u001b[1;31mNameError\u001b[0m: name 'lista_citys' is not defined"
     ]
    }
   ],
   "source": [
    "lista_citys.append('Curazao')"
   ]
  },
  {
   "cell_type": "markdown",
   "id": "98eb3e9e",
   "metadata": {},
   "source": [
    "8) Agregar otra ciudad, pero en la cuarta posición"
   ]
  },
  {
   "cell_type": "code",
   "execution_count": 18,
   "id": "24d28b9a",
   "metadata": {},
   "outputs": [],
   "source": [
    "lista_ciudades.insert(4, 'Alejandria')"
   ]
  },
  {
   "cell_type": "code",
   "execution_count": 19,
   "id": "987c44b8",
   "metadata": {},
   "outputs": [
    {
     "data": {
      "text/plain": [
       "['Neuquen',\n",
       " 'Cordoba',\n",
       " 'Barcelona',\n",
       " 'Brasilia',\n",
       " 'Alejandria',\n",
       " 'Arkansas',\n",
       " 'Bariloche']"
      ]
     },
     "execution_count": 19,
     "metadata": {},
     "output_type": "execute_result"
    }
   ],
   "source": [
    "lista_ciudades\n"
   ]
  },
  {
   "cell_type": "code",
   "execution_count": 20,
   "id": "51fb14de",
   "metadata": {},
   "outputs": [],
   "source": [
    "city_2 = ['Cochabamba', 'Oruro', 'Lamadrid']\n",
    "lista_ciudades.extend(city_2)"
   ]
  },
  {
   "cell_type": "markdown",
   "id": "d014c4f6",
   "metadata": {},
   "source": [
    "9) Concatenar otra lista a la ya creada"
   ]
  },
  {
   "cell_type": "code",
   "execution_count": 21,
   "id": "b25628ae",
   "metadata": {},
   "outputs": [
    {
     "data": {
      "text/plain": [
       "['Neuquen',\n",
       " 'Cordoba',\n",
       " 'Barcelona',\n",
       " 'Brasilia',\n",
       " 'Alejandria',\n",
       " 'Arkansas',\n",
       " 'Bariloche',\n",
       " 'Cochabamba',\n",
       " 'Oruro',\n",
       " 'Lamadrid']"
      ]
     },
     "execution_count": 21,
     "metadata": {},
     "output_type": "execute_result"
    }
   ],
   "source": [
    "lista_ciudades"
   ]
  },
  {
   "cell_type": "markdown",
   "id": "3d911734",
   "metadata": {},
   "source": [
    "10) Encontrar el índice de la ciudad que en el punto 7 agregamos duplicada. ¿Se nota alguna particularidad?"
   ]
  },
  {
   "cell_type": "code",
   "execution_count": 24,
   "id": "823ecbba",
   "metadata": {},
   "outputs": [],
   "source": [
    "lista_ciudades.append('Bariloche')"
   ]
  },
  {
   "cell_type": "code",
   "execution_count": 27,
   "id": "24193833",
   "metadata": {},
   "outputs": [
    {
     "data": {
      "text/plain": [
       "6"
      ]
     },
     "execution_count": 27,
     "metadata": {},
     "output_type": "execute_result"
    }
   ],
   "source": [
    "lista_ciudades.index('Bariloche')"
   ]
  },
  {
   "cell_type": "code",
   "execution_count": 26,
   "id": "af7f962c",
   "metadata": {},
   "outputs": [
    {
     "data": {
      "text/plain": [
       "['Neuquen',\n",
       " 'Cordoba',\n",
       " 'Barcelona',\n",
       " 'Brasilia',\n",
       " 'Alejandria',\n",
       " 'Arkansas',\n",
       " 'Bariloche',\n",
       " 'Cochabamba',\n",
       " 'Oruro',\n",
       " 'Lamadrid',\n",
       " 'Bariloche',\n",
       " 'Bariloche']"
      ]
     },
     "execution_count": 26,
     "metadata": {},
     "output_type": "execute_result"
    }
   ],
   "source": [
    "lista_ciudades"
   ]
  },
  {
   "cell_type": "markdown",
   "id": "18c9691f",
   "metadata": {},
   "source": [
    " ¿Qué pasa si se busca un elemento que no existe?\n",
    " "
   ]
  },
  {
   "cell_type": "code",
   "execution_count": 28,
   "id": "504a6145",
   "metadata": {},
   "outputs": [
    {
     "ename": "ValueError",
     "evalue": "'nn' is not in list",
     "output_type": "error",
     "traceback": [
      "\u001b[1;31m---------------------------------------------------------------------------\u001b[0m",
      "\u001b[1;31mValueError\u001b[0m                                Traceback (most recent call last)",
      "\u001b[1;32m~\\AppData\\Local\\Temp/ipykernel_6536/4200937172.py\u001b[0m in \u001b[0;36m<module>\u001b[1;34m\u001b[0m\n\u001b[1;32m----> 1\u001b[1;33m \u001b[0mlista_ciudades\u001b[0m\u001b[1;33m.\u001b[0m\u001b[0mindex\u001b[0m\u001b[1;33m(\u001b[0m\u001b[1;34m'nn'\u001b[0m\u001b[1;33m)\u001b[0m\u001b[1;33m\u001b[0m\u001b[1;33m\u001b[0m\u001b[0m\n\u001b[0m",
      "\u001b[1;31mValueError\u001b[0m: 'nn' is not in list"
     ]
    }
   ],
   "source": [
    "lista_ciudades.index('nn')\n"
   ]
  },
  {
   "cell_type": "markdown",
   "id": "fddb4e62",
   "metadata": {},
   "source": [
    "12) Eliminar un elemento de la lista\n"
   ]
  },
  {
   "cell_type": "code",
   "execution_count": 29,
   "id": "7e490c4f",
   "metadata": {},
   "outputs": [
    {
     "data": {
      "text/plain": [
       "['Neuquen',\n",
       " 'Cordoba',\n",
       " 'Barcelona',\n",
       " 'Brasilia',\n",
       " 'Alejandria',\n",
       " 'Arkansas',\n",
       " 'Cochabamba',\n",
       " 'Oruro',\n",
       " 'Lamadrid',\n",
       " 'Bariloche',\n",
       " 'Bariloche']"
      ]
     },
     "execution_count": 29,
     "metadata": {},
     "output_type": "execute_result"
    }
   ],
   "source": [
    "lista_ciudades.remove('Bariloche')\n",
    "lista_ciudades"
   ]
  },
  {
   "cell_type": "code",
   "execution_count": 30,
   "id": "d05f7f62",
   "metadata": {},
   "outputs": [
    {
     "data": {
      "text/plain": [
       "['Neuquen',\n",
       " 'Cordoba',\n",
       " 'Barcelona',\n",
       " 'Brasilia',\n",
       " 'Alejandria',\n",
       " 'Arkansas',\n",
       " 'Cochabamba',\n",
       " 'Oruro',\n",
       " 'Lamadrid',\n",
       " 'Bariloche']"
      ]
     },
     "execution_count": 30,
     "metadata": {},
     "output_type": "execute_result"
    }
   ],
   "source": [
    "lista_ciudades.remove('Bariloche')\n",
    "lista_ciudades"
   ]
  },
  {
   "cell_type": "markdown",
   "id": "7b499f77",
   "metadata": {},
   "source": [
    "14) Extraer el úlimo elemento de la lista, guardarlo en una variable e imprimirlo"
   ]
  },
  {
   "cell_type": "code",
   "execution_count": 31,
   "id": "cd0f2795",
   "metadata": {},
   "outputs": [
    {
     "name": "stdout",
     "output_type": "stream",
     "text": [
      "Bariloche\n"
     ]
    }
   ],
   "source": [
    "ultimo = lista_ciudades.pop()\n",
    "print(ultimo)"
   ]
  },
  {
   "cell_type": "markdown",
   "id": "2d4a9252",
   "metadata": {},
   "source": [
    "15) Mostrar la lista multiplicada por 4\n"
   ]
  },
  {
   "cell_type": "code",
   "execution_count": 32,
   "id": "f105c908",
   "metadata": {},
   "outputs": [
    {
     "name": "stdout",
     "output_type": "stream",
     "text": [
      "['Neuquen', 'Cordoba', 'Barcelona', 'Brasilia', 'Alejandria', 'Arkansas', 'Cochabamba', 'Oruro', 'Lamadrid', 'Neuquen', 'Cordoba', 'Barcelona', 'Brasilia', 'Alejandria', 'Arkansas', 'Cochabamba', 'Oruro', 'Lamadrid', 'Neuquen', 'Cordoba', 'Barcelona', 'Brasilia', 'Alejandria', 'Arkansas', 'Cochabamba', 'Oruro', 'Lamadrid', 'Neuquen', 'Cordoba', 'Barcelona', 'Brasilia', 'Alejandria', 'Arkansas', 'Cochabamba', 'Oruro', 'Lamadrid']\n"
     ]
    }
   ],
   "source": [
    "lista_ciudades_x4 = lista_ciudades *4\n",
    "print (lista_ciudades_x4)"
   ]
  },
  {
   "cell_type": "markdown",
   "id": "b2358d0f",
   "metadata": {},
   "source": [
    "16) Crear una tupla que contenga los números enteros del 1 al 20\n"
   ]
  },
  {
   "cell_type": "code",
   "execution_count": 7,
   "id": "6da2274a",
   "metadata": {},
   "outputs": [
    {
     "name": "stdout",
     "output_type": "stream",
     "text": [
      "(1, 2, 3, 4, 5, 6, 7, 8, 9, 10, 11, 12, 13, 14, 15, 16, 17, 18, 19, 20)\n"
     ]
    }
   ],
   "source": [
    "mytuple = tuple(range(1,21))\n",
    "print (mytuple)"
   ]
  },
  {
   "cell_type": "code",
   "execution_count": 34,
   "id": "c4e1845d",
   "metadata": {},
   "outputs": [
    {
     "name": "stdout",
     "output_type": "stream",
     "text": [
      "(11, 12, 13, 14, 15, 16)\n"
     ]
    }
   ],
   "source": [
    "print(mytuple[10:16])"
   ]
  },
  {
   "cell_type": "code",
   "execution_count": 35,
   "id": "0b842f8c",
   "metadata": {},
   "outputs": [
    {
     "ename": "TypeError",
     "evalue": "'tuple' object is not callable",
     "output_type": "error",
     "traceback": [
      "\u001b[1;31m---------------------------------------------------------------------------\u001b[0m",
      "\u001b[1;31mTypeError\u001b[0m                                 Traceback (most recent call last)",
      "\u001b[1;32m~\\AppData\\Local\\Temp/ipykernel_6536/1486684432.py\u001b[0m in \u001b[0;36m<module>\u001b[1;34m\u001b[0m\n\u001b[1;32m----> 1\u001b[1;33m \u001b[0mmytuple\u001b[0m\u001b[1;33m(\u001b[0m\u001b[1;36m20\u001b[0m\u001b[1;33m)\u001b[0m\u001b[1;33m\u001b[0m\u001b[1;33m\u001b[0m\u001b[0m\n\u001b[0m",
      "\u001b[1;31mTypeError\u001b[0m: 'tuple' object is not callable"
     ]
    }
   ],
   "source": [
    "mytuple(20)"
   ]
  },
  {
   "cell_type": "markdown",
   "id": "6d41d233",
   "metadata": {},
   "source": [
    "18) Evaluar si los números 20 y 30 están dentro de la tupla"
   ]
  },
  {
   "cell_type": "code",
   "execution_count": 36,
   "id": "353b6b60",
   "metadata": {},
   "outputs": [
    {
     "data": {
      "text/plain": [
       "True"
      ]
     },
     "execution_count": 36,
     "metadata": {},
     "output_type": "execute_result"
    }
   ],
   "source": [
    "20 in mytuple"
   ]
  },
  {
   "cell_type": "code",
   "execution_count": 37,
   "id": "8b389b67",
   "metadata": {},
   "outputs": [
    {
     "data": {
      "text/plain": [
       "False"
      ]
     },
     "execution_count": 37,
     "metadata": {},
     "output_type": "execute_result"
    }
   ],
   "source": [
    "30 in mytuple"
   ]
  },
  {
   "cell_type": "markdown",
   "id": "e445a9fc",
   "metadata": {},
   "source": [
    "19) Con la lista creada en el punto 1, validar la existencia del elemento 'París' y si no existe, agregarlo. Utilizar una variable e informar lo sucedido."
   ]
  },
  {
   "cell_type": "code",
   "execution_count": 2,
   "id": "35715fc6",
   "metadata": {},
   "outputs": [
    {
     "data": {
      "text/plain": [
       "['Neuquen', 'Cordoba', 'Barcelona', 'Brasilia', 'Arkansas']"
      ]
     },
     "execution_count": 2,
     "metadata": {},
     "output_type": "execute_result"
    }
   ],
   "source": [
    "lista_ciudades\n"
   ]
  },
  {
   "cell_type": "code",
   "execution_count": 4,
   "id": "4b570932",
   "metadata": {},
   "outputs": [
    {
     "name": "stdout",
     "output_type": "stream",
     "text": [
      "['Neuquen', 'Cordoba', 'Barcelona', 'Brasilia', 'Arkansas', 'Paris']\n"
     ]
    }
   ],
   "source": [
    "if ('Paris' in lista_ciudades):\n",
    "    pass\n",
    "else:\n",
    "    lista_ciudades.append('Paris')\n",
    "print(lista_ciudades)\n",
    "    "
   ]
  },
  {
   "cell_type": "markdown",
   "id": "020f1c66",
   "metadata": {},
   "source": [
    "Mostrar la cantidad de veces que se encuentra un elemento específico dentro de la tupla y de la lista"
   ]
  },
  {
   "cell_type": "code",
   "execution_count": 5,
   "id": "1cbb13ee",
   "metadata": {},
   "outputs": [
    {
     "data": {
      "text/plain": [
       "1"
      ]
     },
     "execution_count": 5,
     "metadata": {},
     "output_type": "execute_result"
    }
   ],
   "source": [
    "lista_ciudades.count('Cordoba')\n"
   ]
  },
  {
   "cell_type": "code",
   "execution_count": 9,
   "id": "879d094d",
   "metadata": {},
   "outputs": [
    {
     "name": "stdout",
     "output_type": "stream",
     "text": [
      "<class 'list'>\n"
     ]
    }
   ],
   "source": [
    "lista=list(mytuple)\n",
    "print (type(lista))"
   ]
  },
  {
   "cell_type": "markdown",
   "id": "c0280aa2",
   "metadata": {},
   "source": [
    "22) Desempaquetar solo los primeros 3 elementos de la tupla en 3 variables\n"
   ]
  },
  {
   "cell_type": "code",
   "execution_count": 2,
   "id": "8a18713d",
   "metadata": {},
   "outputs": [],
   "source": [
    "tupla_ciudades= tuple(lista_ciudades)"
   ]
  },
  {
   "cell_type": "code",
   "execution_count": 4,
   "id": "563049e1",
   "metadata": {},
   "outputs": [
    {
     "data": {
      "text/plain": [
       "('Neuquen', 'Cordoba', 'Barcelona', 'Brasilia', 'Arkansas')"
      ]
     },
     "execution_count": 4,
     "metadata": {},
     "output_type": "execute_result"
    }
   ],
   "source": [
    "tupla_ciudades"
   ]
  },
  {
   "cell_type": "code",
   "execution_count": 5,
   "id": "2631ce3b",
   "metadata": {},
   "outputs": [],
   "source": [
    "c1, c2, c3, _,_,=tupla_ciudades"
   ]
  },
  {
   "cell_type": "code",
   "execution_count": 7,
   "id": "24a1c9cc",
   "metadata": {},
   "outputs": [
    {
     "name": "stdout",
     "output_type": "stream",
     "text": [
      "Neuquen\n",
      "Cordoba\n",
      "Barcelona\n"
     ]
    }
   ],
   "source": [
    "print(c1)\n",
    "print(c2)\n",
    "print(c3)"
   ]
  },
  {
   "cell_type": "markdown",
   "id": "29424221",
   "metadata": {},
   "source": [
    "23) Crear un diccionario utilizando la lista crada en el punto 1, asignandole la clave \"ciudad\". Agregar tambien otras claves, como puede ser \"Pais\" y \"Continente\".\n"
   ]
  },
  {
   "cell_type": "code",
   "execution_count": 12,
   "id": "5627e320",
   "metadata": {},
   "outputs": [
    {
     "name": "stdout",
     "output_type": "stream",
     "text": [
      "{'ciudad': ['Neuquen', 'Cordoba', 'Barcelona', 'Brasilia', 'Arkansas'], 'pais': 'Brasil', 'continente': 'asia'}\n"
     ]
    }
   ],
   "source": [
    "dict_ciudades ={\n",
    "    'ciudad': lista_ciudades,\n",
    "    'pais': 'Brasil',\n",
    "    'continente': 'asia'\n",
    "    \n",
    "    \n",
    "}\n",
    "print(dict_ciudades)"
   ]
  },
  {
   "cell_type": "markdown",
   "id": "c400f955",
   "metadata": {},
   "source": [
    "24Imprimir las claves del diccionario\n"
   ]
  },
  {
   "cell_type": "code",
   "execution_count": 13,
   "id": "3509f927",
   "metadata": {},
   "outputs": [
    {
     "name": "stdout",
     "output_type": "stream",
     "text": [
      "dict_keys(['ciudad', 'pais', 'continente'])\n"
     ]
    }
   ],
   "source": [
    "print(dict_ciudades.keys())"
   ]
  },
  {
   "cell_type": "code",
   "execution_count": 15,
   "id": "8126461e",
   "metadata": {},
   "outputs": [
    {
     "ename": "TypeError",
     "evalue": "list indices must be integers or slices, not str",
     "output_type": "error",
     "traceback": [
      "\u001b[1;31m---------------------------------------------------------------------------\u001b[0m",
      "\u001b[1;31mTypeError\u001b[0m                                 Traceback (most recent call last)",
      "\u001b[1;32m~\\AppData\\Local\\Temp/ipykernel_10976/1063221295.py\u001b[0m in \u001b[0;36m<module>\u001b[1;34m\u001b[0m\n\u001b[1;32m----> 1\u001b[1;33m \u001b[0mprint\u001b[0m\u001b[1;33m(\u001b[0m\u001b[0mlista_ciudades\u001b[0m\u001b[1;33m[\u001b[0m\u001b[1;34m'ciudad'\u001b[0m\u001b[1;33m]\u001b[0m \u001b[1;33m)\u001b[0m\u001b[1;33m\u001b[0m\u001b[1;33m\u001b[0m\u001b[0m\n\u001b[0m",
      "\u001b[1;31mTypeError\u001b[0m: list indices must be integers or slices, not str"
     ]
    }
   ],
   "source": [
    "print(lista_ciudades['ciudad'] )"
   ]
  },
  {
   "cell_type": "code",
   "execution_count": null,
   "id": "2118117d",
   "metadata": {},
   "outputs": [],
   "source": []
  }
 ],
 "metadata": {
  "kernelspec": {
   "display_name": "Python 3 (ipykernel)",
   "language": "python",
   "name": "python3"
  },
  "language_info": {
   "codemirror_mode": {
    "name": "ipython",
    "version": 3
   },
   "file_extension": ".py",
   "mimetype": "text/x-python",
   "name": "python",
   "nbconvert_exporter": "python",
   "pygments_lexer": "ipython3",
   "version": "3.9.7"
  }
 },
 "nbformat": 4,
 "nbformat_minor": 5
}
