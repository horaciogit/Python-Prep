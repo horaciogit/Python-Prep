{
 "cells": [
  {
   "cell_type": "markdown",
   "id": "8240f33f",
   "metadata": {},
   "source": [
    "1) Crear una función que reciba un número como parámetro y devuelva si True si es primo y False si no lo es"
   ]
  },
  {
   "cell_type": "code",
   "execution_count": 6,
   "id": "c1db1efc",
   "metadata": {},
   "outputs": [
    {
     "name": "stdout",
     "output_type": "stream",
     "text": [
      " es numero primo? True \n"
     ]
    }
   ],
   "source": [
    "def primo(number):\n",
    "    count = number -1 \n",
    "    flag = True\n",
    "    for i in range(2,count):\n",
    "        if (number % i == 0):\n",
    "            flag = False\n",
    "            break            \n",
    "    return flag\n",
    "\n",
    "n=23\n",
    "\n",
    "print (f' es numero primo? {primo(n)} ')\n",
    "\n",
    "        \n",
    "    \n",
    "\n",
    "    "
   ]
  },
  {
   "cell_type": "markdown",
   "id": "529516f9",
   "metadata": {},
   "source": [
    "2) Utilizando la función del punto 1, realizar otra función que reciba de parámetro una lista de números y devuelva sólo aquellos que son primos en otra lista"
   ]
  },
  {
   "cell_type": "code",
   "execution_count": 9,
   "id": "47521a0c",
   "metadata": {},
   "outputs": [
    {
     "name": "stdout",
     "output_type": "stream",
     "text": [
      "[1, 2, 3, 5, 7, 11, 13, 17, 19, 23, 29]\n"
     ]
    }
   ],
   "source": [
    "def primo(number):\n",
    "    count = number -1 \n",
    "    flag = True\n",
    "    for i in range(2,count):\n",
    "        if (number % i == 0):\n",
    "            flag = False\n",
    "            break            \n",
    "    return flag\n",
    "\n",
    "def listaPrimos(a):\n",
    "    lista=[]\n",
    "    for i in a:\n",
    "        if (primo(i))==True:\n",
    "            lista.append(i)       \n",
    "    return lista        \n",
    "            \n",
    "        \n",
    "print(listaPrimos(range(1,30)) )\n",
    "\n",
    "\n"
   ]
  },
  {
   "cell_type": "markdown",
   "id": "69c4fa1d",
   "metadata": {},
   "source": [
    "3) Crear una función que al recibir una lista de números, devuelva el que más se repite y cuántas veces lo hace. Si hay más de un \"más repetido\", que devuelva cualquiera"
   ]
  },
  {
   "cell_type": "code",
   "execution_count": 7,
   "id": "49f78f3d",
   "metadata": {
    "scrolled": true
   },
   "outputs": [
    {
     "name": "stdout",
     "output_type": "stream",
     "text": [
      "(21, 1)\n"
     ]
    }
   ],
   "source": [
    "lista=[ 5, 2,3,5, 8,5, 21]\n",
    "\n",
    "def countRep(lista_a):\n",
    "    mayor = 1\n",
    "    for i in lista_a:\n",
    "        if (lista_a.count(i)) > mayor:\n",
    "            mayor = lista_a.count( i)\n",
    "    return i, lista_a.count(i)\n",
    "\n",
    "print(countRep(lista))        \n"
   ]
  },
  {
   "cell_type": "markdown",
   "id": "91cb18a5",
   "metadata": {},
   "source": [
    "5) Crear una función que convierta entre grados Celsius, Farenheit y Kelvin<br>\n",
    "Fórmula 1\t: (°C × 9/5) + 32 = °F<br>\n",
    "Fórmula 2\t: °C + 273.15 = °K<br>\n",
    "Debe recibir 3 parámetros: el valor, la medida de orígen y la medida de destino"
   ]
  },
  {
   "cell_type": "code",
   "execution_count": 20,
   "id": "2d08bc98",
   "metadata": {},
   "outputs": [
    {
     "name": "stdout",
     "output_type": "stream",
     "text": [
      " la temperatura es  69.8 en grados F\n"
     ]
    }
   ],
   "source": [
    "def convertTemp(p_data):\n",
    "    if p_data[1] == 'C':\n",
    "        if p_data[2] == 'F':\n",
    "            return ((p_data[0] * 9/5) + 32 , 'F'  )\n",
    "        elif p_data[2] == 'K':\n",
    "            return( p_data[0] + 273.15 , 'Kelvin')\n",
    "        else:\n",
    "            return 'unidad invalida'\n",
    "            \n",
    "temp = (21, 'C', 'F')\n",
    "\n",
    "temp_final = convertTemp(temp)\n",
    "print(f' la temperatura es  {temp_final[0]} en grados {temp_final[1]}' )"
   ]
  },
  {
   "cell_type": "markdown",
   "id": "94896120",
   "metadata": {},
   "source": [
    "6) Iterando una lista con los tres valores posibles de temperatura que recibe la función del punto 5, hacer un print para cada combinación de los mismos:"
   ]
  },
  {
   "cell_type": "code",
   "execution_count": 26,
   "id": "f59b04f7",
   "metadata": {},
   "outputs": [
    {
     "name": "stdout",
     "output_type": "stream",
     "text": [
      " equivale a : (59.0, 'F')\n",
      " equivale a : (288.15, 'Kelvin')\n"
     ]
    }
   ],
   "source": [
    "def convertTemp(p_data):\n",
    "    if p_data[1] == 'C':\n",
    "        if p_data[2] == 'F':\n",
    "            return ((p_data[0] * 9/5) + 32 , 'F'  )\n",
    "        elif p_data[2] == 'K':\n",
    "            return( p_data[0] + 273.15 , 'Kelvin')\n",
    "        else:\n",
    "            return 'unidad invalida'\n",
    "        \n",
    "lista=[(15, 'C', 'F'), (15, 'C', 'K') ]     \n",
    "for i in lista:\n",
    "    print(f' equivale a : { convertTemp(i)}')\n",
    "        \n",
    "        "
   ]
  },
  {
   "cell_type": "markdown",
   "id": "2fa61079",
   "metadata": {},
   "source": [
    "7) Armar una función que devuelva el factorial de un número. Tener en cuenta que el usuario puede equivocarse y enviar de parámetro un número no entero o negativo"
   ]
  },
  {
   "cell_type": "code",
   "execution_count": 4,
   "id": "48c453e8",
   "metadata": {},
   "outputs": [
    {
     "name": "stdout",
     "output_type": "stream",
     "text": [
      "La variable no es un entero\n"
     ]
    }
   ],
   "source": [
    "def factorial(n):\n",
    "    if (type(n) == int):\n",
    "        if (n > 0):\n",
    "            factorial = n\n",
    "            while (n > 2):\n",
    "                n = n - 1\n",
    "                factorial = factorial * n\n",
    "            print('El factorial es', factorial)\n",
    "        else:\n",
    "            print('La variable no es mayor a cero')\n",
    "    else:\n",
    "        print('La variable no es un entero')\n",
    "        \n",
    "factorial(6.7)        "
   ]
  },
  {
   "cell_type": "code",
   "execution_count": null,
   "id": "c3749d39",
   "metadata": {},
   "outputs": [],
   "source": []
  },
  {
   "cell_type": "code",
   "execution_count": null,
   "id": "efd4ace6",
   "metadata": {},
   "outputs": [],
   "source": []
  }
 ],
 "metadata": {
  "kernelspec": {
   "display_name": "Python 3 (ipykernel)",
   "language": "python",
   "name": "python3"
  },
  "language_info": {
   "codemirror_mode": {
    "name": "ipython",
    "version": 3
   },
   "file_extension": ".py",
   "mimetype": "text/x-python",
   "name": "python",
   "nbconvert_exporter": "python",
   "pygments_lexer": "ipython3",
   "version": "3.9.7"
  }
 },
 "nbformat": 4,
 "nbformat_minor": 5
}
